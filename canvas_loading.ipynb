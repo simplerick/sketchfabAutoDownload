{
 "cells": [
  {
   "cell_type": "code",
   "execution_count": 1,
   "metadata": {},
   "outputs": [],
   "source": [
    "import webbrowser\n",
    "import os\n",
    "import shutil\n",
    "import requests\n",
    "new = 2\n",
    "\n",
    "\n",
    "#open an HTML file on my own (Windows) computer\n",
    "def open_html(relpath):\n",
    "    url = 'file:///Users/aleks/Documents/study/phd/deeptechNikolaev/sketchfabAutoDownload/' + relpath\n",
    "    # webbrowser.open(url)\n",
    "    webbrowser.open(url,new=new)"
   ]
  },
  {
   "cell_type": "markdown",
   "metadata": {},
   "source": [
    "# Fetching model uids"
   ]
  },
  {
   "cell_type": "code",
   "execution_count": 2,
   "metadata": {},
   "outputs": [
    {
     "data": {
      "text/plain": [
       "['aa63eefcd48c41d3a9d41e0a32ee6dbb',\n",
       " 'be035da2e43e4f66a2405fa1508ef293',\n",
       " '493dddfd34ac4f19aa88ef6281f22459',\n",
       " '201452e568064aedadccfafb668ef6a5',\n",
       " '54d68bec471f42ac8fa6259cb8e47547',\n",
       " 'd1466b9096f040278bba4acb2bc7eef3',\n",
       " 'c22cd070eca748d09b222733bab358e2',\n",
       " '266a04b8716d497fab57d33eb184b0bd',\n",
       " 'e161f29e8a2347e5a4ea17df8e4e6008',\n",
       " '32a93de8d7454b19bca6866746a8e3ee',\n",
       " '016f7a166eee49c080790e562f4180ce',\n",
       " '0f5e89cefe8e4c15ac58b4f9d9b49f4b',\n",
       " '9d73d65e706f4c6fa89a5d54307904e2',\n",
       " '6a63b0a50c064f2c8c0f0b2277a2363f',\n",
       " '7ebaf83ddec74174b821029e42a470f6',\n",
       " '7e8a61dd67b341e987e88299af27fe57']"
      ]
     },
     "execution_count": 2,
     "metadata": {},
     "output_type": "execute_result"
    }
   ],
   "source": [
    "collection_id = '41f58a2863d9493b9ef9b3ffc95954eb'\n",
    "\n",
    "response = requests.get('https://api.sketchfab.com/v3/collections/'+collection_id+'/models')\n",
    "assert response.status_code==200\n",
    "# res = response.json()['results'][0]\n",
    "uids_collection = []\n",
    "for res in response.json()['results']:\n",
    "    uids_collection.append(res['uid'])\n",
    "uids_collection"
   ]
  },
  {
   "cell_type": "markdown",
   "metadata": {},
   "source": [
    "# Preparing `iframe`s for `index.html`"
   ]
  },
  {
   "cell_type": "code",
   "execution_count": 3,
   "metadata": {},
   "outputs": [],
   "source": [
    "with open('index_empty.html') as f:\n",
    "    data = f.readlines()"
   ]
  },
  {
   "cell_type": "code",
   "execution_count": 4,
   "metadata": {},
   "outputs": [],
   "source": [
    "template = [\n",
    "'            <div class=\"row \">\\n',\n",
    "'                <div class=\"d-flex flex-column col-md-8 mb-3\">\\n',\n",
    "'                    <iframe id=\"api-frame\" width=\"auto\" height=\"auto\" allowfullscreen=\"true\" mozallowfullscreen=\"true\"\\n',\n",
    "'                        webkitallowfullscreen=\"true\"\\n',\n",
    "'                        class=\"mb-3 rounded shadow-lg embed-responsive embed-responsive-4by3 border border-info\"\\n',\n",
    "'                        loading=\"lazy\"></iframe>\\n',\n",
    "'                </div>\\n',\n",
    "'            </div>\\n'\n",
    "]\n",
    "def add_after_subs(string, substring, i):\n",
    "    s_pos = string.find(substring)\n",
    "    e_pos = s_pos + len(substring)\n",
    "    string = string[:e_pos] + str(i) + string[e_pos:]\n",
    "    return string\n",
    "def alter_template(i):\n",
    "    if i == 0:\n",
    "        return template\n",
    "    \n",
    "    template_i = template.copy()\n",
    "    # <div class=\"row \">\n",
    "    template_i[0]=add_after_subs(template_i[0], 'row', i)\n",
    "    # <iframe id=\"api-frame1\" ...\n",
    "    template_i[2]=add_after_subs(template_i[2], 'api-frame', i)\n",
    "    return template_i"
   ]
  },
  {
   "cell_type": "code",
   "execution_count": 5,
   "metadata": {},
   "outputs": [],
   "source": [
    "iframes_html = []\n",
    "for i, uid in enumerate(uids_collection[:]):\n",
    "    iframes_html += alter_template(i)"
   ]
  },
  {
   "cell_type": "code",
   "execution_count": 6,
   "metadata": {},
   "outputs": [],
   "source": [
    "tmp=data[:14] + iframes_html + data[14:]"
   ]
  },
  {
   "cell_type": "code",
   "execution_count": 7,
   "metadata": {},
   "outputs": [],
   "source": [
    "with open('index_tst.html', 'w') as the_file:\n",
    "    for l in tmp:\n",
    "        the_file.write(l)"
   ]
  },
  {
   "cell_type": "code",
   "execution_count": 10,
   "metadata": {},
   "outputs": [
    {
     "data": {
      "text/plain": [
       "7"
      ]
     },
     "execution_count": 10,
     "metadata": {},
     "output_type": "execute_result"
    }
   ],
   "source": [
    "def foo(a, b):\n",
    "    return a + b\n",
    "foo1 = lambda x: foo(x, 3)\n",
    "foo1(4)"
   ]
  },
  {
   "cell_type": "code",
   "execution_count": 8,
   "metadata": {},
   "outputs": [],
   "source": [
    "js_file_path = 'init_model.js'\n",
    "with open(js_file_path, 'r') as file:\n",
    "    # read a list of lines into data\n",
    "    data = file.readlines()\n",
    "#find uids row\n",
    "uids_row_idx = -1\n",
    "for i, l in enumerate(data):\n",
    "    if 'var uids = ' in l:\n",
    "        uids_row_idx = i\n",
    "        break\n",
    "assert uids_row_idx > 0\n",
    "#alter it\n",
    "data[uids_row_idx] = 'var uids = ' + str(uids_collection[:]) + ';\\n'\n",
    "\n",
    "with open('init_model.js', 'w') as file:\n",
    "    file.writelines(data)"
   ]
  },
  {
   "cell_type": "code",
   "execution_count": null,
   "metadata": {},
   "outputs": [],
   "source": []
  }
 ],
 "metadata": {
  "interpreter": {
   "hash": "5d928237803e95b62a2ee2dcc5cf3e8058fb532f6ec254545cf58878bdab3824"
  },
  "kernelspec": {
   "display_name": "Python 3.10.4 ('apisketch')",
   "language": "python",
   "name": "python3"
  },
  "language_info": {
   "codemirror_mode": {
    "name": "ipython",
    "version": 3
   },
   "file_extension": ".py",
   "mimetype": "text/x-python",
   "name": "python",
   "nbconvert_exporter": "python",
   "pygments_lexer": "ipython3",
   "version": "3.10.4"
  },
  "orig_nbformat": 4
 },
 "nbformat": 4,
 "nbformat_minor": 2
}
