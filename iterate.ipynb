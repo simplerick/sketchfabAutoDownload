{
 "cells": [
  {
   "cell_type": "code",
   "execution_count": 4,
   "metadata": {},
   "outputs": [],
   "source": [
    "import webbrowser\n",
    "import os\n",
    "import shutil\n",
    "import requests\n",
    "new = 2\n",
    "\n",
    "\n",
    "#open an HTML file on my own (Windows) computer\n",
    "def open_html(relpath):\n",
    "    url = 'file:///Users/aleks/Documents/study/phd/deeptechNikolaev/sketchfabAutoDownload/' + relpath\n",
    "    webbrowser.open(url,new=new)\n",
    "def set_uid(uid, js_file_path='init_model.js'):\n",
    "    with open(js_file_path, 'r') as file:\n",
    "        # read a list of lines into data\n",
    "        data = file.readlines()\n",
    "\n",
    "    # alter line with uid\n",
    "    new_uid_line = data[10].split()\n",
    "    #change uid\n",
    "    new_uid_line[3] = '\\'' + uid + '\\'' + ';' + '\\n'\n",
    "    #join line\n",
    "    new_uid_line = \" \".join(new_uid_line)\n",
    "\n",
    "    #substitute\n",
    "    data[10] = new_uid_line\n",
    "    if not os.path.exists('model_id_'+uid):\n",
    "        os.makedirs('model_id_'+uid)\n",
    "\n",
    "    #copying index.html and js script\n",
    "    shutil.copy2('index.html', 'model_id_'+uid)\n",
    "    model_indexhtml_name = 'index_' + 'model_id_'+uid + '.html'\n",
    "    os.rename(os.path.join('model_id_'+uid, 'index.html'), os.path.join('model_id_'+uid, model_indexhtml_name))\n",
    "    shutil.copy2('init_model.js', 'model_id_'+uid)\n",
    "\n",
    "    # # and write everything to new folder corresponding to the model\n",
    "    with open(os.path.join('model_id_'+uid, 'init_model.js'), 'w') as file:\n",
    "        file.writelines( data )"
   ]
  },
  {
   "cell_type": "markdown",
   "metadata": {},
   "source": [
    "# shitty camera positioning\n",
    "https://sketchfab.com/FilippoFerrarini/collections/characters-c6859d84b93c4a23ad7623deffa59434"
   ]
  },
  {
   "cell_type": "code",
   "execution_count": 11,
   "metadata": {},
   "outputs": [],
   "source": [
    "# collection_id = 'c6859d84b93c4a23ad7623deffa59434'\n",
    "# collection_id = '41f58a2863d9493b9ef9b3ffc95954eb'\n",
    "# collection_id = 'da79db8f8e5b47f2a0057aac75924583'\n",
    "collection_id = '98da60e8d2464d0e8a736a7f827f8e34'\n",
    "\n",
    "\n",
    "\n",
    "response = requests.get('https://api.sketchfab.com/v3/collections/'+collection_id+'/models')\n",
    "assert response.status_code==200"
   ]
  },
  {
   "cell_type": "code",
   "execution_count": 12,
   "metadata": {},
   "outputs": [
    {
     "data": {
      "text/plain": [
       "['e46d9cfb3e7544079cb574a955d4e8be',\n",
       " '2da32bdaca814ff695dd8a6a5c5c13d0',\n",
       " '7b0e56568fb345758d6568907f635e0c',\n",
       " 'a47afd57a9b8453194d811204d9c8dcf',\n",
       " '1ee1fcffcc9e49d6aea7c94e920664e6',\n",
       " '7294b47b749e4f69bd76d820366a02e6',\n",
       " '6193b2d30f064d629be96924e1630a1c',\n",
       " '13177e8e75e24b8d857a478667697c55',\n",
       " 'e60584f84c714dd3b79cbd2d2739e0dd',\n",
       " '0ec331da23f2436ca0d4aeb2167744db',\n",
       " '0a25f607c39f452694653c98d8ad20ac',\n",
       " 'aaca17dc81b04a888626512d90fa60e9',\n",
       " '7436d4bc05e748499a7150dfd1258306',\n",
       " '3f970d9d60ab495b8347aed80a90f062',\n",
       " '4847b02d01e04f2aa23bc11fe838e8a1',\n",
       " '41ff1b62967b48bc85aae6eebedbe73e',\n",
       " 'eced103504bf4e19a2830e22ebd43403',\n",
       " 'ddd6beddabd04d3a8923044619a1ee1e',\n",
       " '610f44342e104a219bfe9daa3b62a47f',\n",
       " '8bf20b20b2af426ba77f6ec77b491301',\n",
       " '78e8404f8eaa4e38bff0c8842df2e024',\n",
       " 'f8683b8078bd4af48b87235d76c5f3f5',\n",
       " '803b7071c8164ccdb4e09cae44b8bd3b',\n",
       " '61eba9945b0941ce82f4942c94d5fede']"
      ]
     },
     "execution_count": 12,
     "metadata": {},
     "output_type": "execute_result"
    }
   ],
   "source": [
    "# res = response.json()['results'][0]\n",
    "uids_collection = []\n",
    "for res in response.json()['results']:\n",
    "    uids_collection.append(res['uid'])\n",
    "uids_collection"
   ]
  },
  {
   "cell_type": "code",
   "execution_count": 16,
   "metadata": {},
   "outputs": [],
   "source": [
    "for uid in uids_collection:\n",
    "    set_uid(uid)\n",
    "    open_html(\"model_id_\"+uid + '/index_' + \"model_id_\"+uid +'.html')\n"
   ]
  },
  {
   "cell_type": "code",
   "execution_count": null,
   "metadata": {},
   "outputs": [],
   "source": []
  }
 ],
 "metadata": {
  "interpreter": {
   "hash": "5d928237803e95b62a2ee2dcc5cf3e8058fb532f6ec254545cf58878bdab3824"
  },
  "kernelspec": {
   "display_name": "Python 3.10.4 ('apisketch')",
   "language": "python",
   "name": "python3"
  },
  "language_info": {
   "codemirror_mode": {
    "name": "ipython",
    "version": 3
   },
   "file_extension": ".py",
   "mimetype": "text/x-python",
   "name": "python",
   "nbconvert_exporter": "python",
   "pygments_lexer": "ipython3",
   "version": "3.10.4"
  },
  "orig_nbformat": 4
 },
 "nbformat": 4,
 "nbformat_minor": 2
}
