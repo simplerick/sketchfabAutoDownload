{
 "cells": [
  {
   "cell_type": "code",
   "execution_count": 1,
   "metadata": {},
   "outputs": [],
   "source": [
    "import webbrowser\n",
    "import os\n",
    "import shutil\n",
    "import requests\n",
    "new = 2\n",
    "\n",
    "\n",
    "#open an HTML file on my own (Windows) computer\n",
    "def open_html(relpath):\n",
    "    url = 'file:///Users/aleks/Documents/study/phd/deeptechNikolaev/sketchfabAutoDownload/' + relpath\n",
    "    chrome_path = 'open -a /Applications/Google\\ Chrome.app %s'\n",
    "\n",
    "    # webbrowser.open(url)\n",
    "    webbrowser.get(chrome_path).open(url,new=new)\n",
    "def set_uid(uid, js_file_path='init_model.js'):\n",
    "    with open(js_file_path, 'r') as file:\n",
    "        # read a list of lines into data\n",
    "        data = file.readlines()\n",
    "\n",
    "    # alter line with uid\n",
    "    new_uid_line = data[10].split()\n",
    "    #change uid\n",
    "    new_uid_line[3] = '\\'' + uid + '\\'' + ';' + '\\n'\n",
    "    #join line\n",
    "    new_uid_line = \" \".join(new_uid_line)\n",
    "\n",
    "    #substitute\n",
    "    data[10] = new_uid_line\n",
    "    if not os.path.exists('model_id_'+uid):\n",
    "        os.makedirs('model_id_'+uid)\n",
    "\n",
    "    #copying index.html and js script\n",
    "    shutil.copy2('index.html', 'model_id_'+uid)\n",
    "    model_indexhtml_name = 'index_' + 'model_id_'+uid + '.html'\n",
    "    os.rename(os.path.join('model_id_'+uid, 'index.html'), os.path.join('model_id_'+uid, model_indexhtml_name))\n",
    "    shutil.copy2('init_model.js', 'model_id_'+uid)\n",
    "\n",
    "    # # and write everything to new folder corresponding to the model\n",
    "    with open(os.path.join('model_id_'+uid, 'init_model.js'), 'w') as file:\n",
    "        file.writelines( data )"
   ]
  },
  {
   "cell_type": "markdown",
   "metadata": {},
   "source": [
    "# shitty camera positioning\n",
    "https://sketchfab.com/FilippoFerrarini/collections/characters-c6859d84b93c4a23ad7623deffa59434"
   ]
  },
  {
   "cell_type": "code",
   "execution_count": 2,
   "metadata": {},
   "outputs": [],
   "source": [
    "# collection_id = 'c6859d84b93c4a23ad7623deffa59434'\n",
    "# collection_id = '41f58a2863d9493b9ef9b3ffc95954eb'\n",
    "# collection_id = 'da79db8f8e5b47f2a0057aac75924583'\n",
    "# collection_id = '98da60e8d2464d0e8a736a7f827f8e34'\n",
    "collection_id = '41f58a2863d9493b9ef9b3ffc95954eb'\n",
    "\n",
    "\n",
    "\n",
    "\n",
    "response = requests.get('https://api.sketchfab.com/v3/collections/'+collection_id+'/models')\n",
    "assert response.status_code==200"
   ]
  },
  {
   "cell_type": "code",
   "execution_count": 3,
   "metadata": {},
   "outputs": [
    {
     "data": {
      "text/plain": [
       "['aa63eefcd48c41d3a9d41e0a32ee6dbb',\n",
       " 'be035da2e43e4f66a2405fa1508ef293',\n",
       " '493dddfd34ac4f19aa88ef6281f22459',\n",
       " '201452e568064aedadccfafb668ef6a5',\n",
       " '54d68bec471f42ac8fa6259cb8e47547',\n",
       " 'd1466b9096f040278bba4acb2bc7eef3',\n",
       " 'c22cd070eca748d09b222733bab358e2',\n",
       " '266a04b8716d497fab57d33eb184b0bd',\n",
       " 'e161f29e8a2347e5a4ea17df8e4e6008',\n",
       " '32a93de8d7454b19bca6866746a8e3ee',\n",
       " '016f7a166eee49c080790e562f4180ce',\n",
       " '0f5e89cefe8e4c15ac58b4f9d9b49f4b',\n",
       " '9d73d65e706f4c6fa89a5d54307904e2',\n",
       " '6a63b0a50c064f2c8c0f0b2277a2363f',\n",
       " '7ebaf83ddec74174b821029e42a470f6',\n",
       " '7e8a61dd67b341e987e88299af27fe57']"
      ]
     },
     "execution_count": 3,
     "metadata": {},
     "output_type": "execute_result"
    }
   ],
   "source": [
    "# res = response.json()['results'][0]\n",
    "uids_collection = []\n",
    "for res in response.json()['results']:\n",
    "    uids_collection.append(res['uid'])\n",
    "uids_collection"
   ]
  },
  {
   "cell_type": "code",
   "execution_count": 5,
   "metadata": {},
   "outputs": [],
   "source": [
    "for uid in uids_collection[:]:\n",
    "    set_uid(uid)\n",
    "    open_html(\"model_id_\"+uid + '/index_' + \"model_id_\"+uid +'.html')\n"
   ]
  },
  {
   "cell_type": "code",
   "execution_count": 21,
   "metadata": {},
   "outputs": [
    {
     "data": {
      "text/plain": [
       "True"
      ]
     },
     "execution_count": 21,
     "metadata": {},
     "output_type": "execute_result"
    }
   ],
   "source": [
    "\n"
   ]
  },
  {
   "cell_type": "code",
   "execution_count": null,
   "metadata": {},
   "outputs": [],
   "source": []
  }
 ],
 "metadata": {
  "interpreter": {
   "hash": "5d928237803e95b62a2ee2dcc5cf3e8058fb532f6ec254545cf58878bdab3824"
  },
  "kernelspec": {
   "display_name": "Python 3.10.4 ('apisketch')",
   "language": "python",
   "name": "python3"
  },
  "language_info": {
   "codemirror_mode": {
    "name": "ipython",
    "version": 3
   },
   "file_extension": ".py",
   "mimetype": "text/x-python",
   "name": "python",
   "nbconvert_exporter": "python",
   "pygments_lexer": "ipython3",
   "version": "3.10.4"
  },
  "orig_nbformat": 4
 },
 "nbformat": 4,
 "nbformat_minor": 2
}
